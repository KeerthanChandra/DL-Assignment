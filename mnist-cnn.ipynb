{
 "cells": [
  {
   "cell_type": "markdown",
   "metadata": {},
   "source": [
    "# MNIST: Introduction to CNN Keras\n",
    "\n",
    "* **1. Introduction**\n",
    "* **2. Data preparation**\n",
    "    * 2.1 Load data\n",
    "    * 2.2 Normalization\n",
    "    * 2.3 Reshape\n",
    "    * 2.4 Label encoding\n",
    "    * 2.5 Split training and valdiation set\n",
    "* **3. Convolution Neural Network**\n",
    "    * 3.1 Define the model\n",
    "    * 3.2 Data augmentation\n",
    "    * 3.3 Model training\n",
    "* **4. Evaluate the model**\n",
    "    * 4.1 Training and validation curves\n",
    "    * 4.2 Confusion matrix\n",
    "* **5. Prediction**\n",
    "    * 5.1 Prediction validation results\n",
    "    * 5.2 Submition\n"
   ]
  },
  {
   "cell_type": "markdown",
   "metadata": {},
   "source": [
    "# 1. Introduction\n",
    "\n",
    "This kernel is your start in deep learning.\n",
    "\n",
    "MNIST (\"Modified National Institute of Standards and Technology\") is the de facto “hello world” dataset of computer vision. Since its release in 1999, this classic dataset of handwritten images has served as the basis for benchmarking classification algorithms. A new machine learning techniques emerge, MNIST remains a reliable resource for researchers and learners alike.  In this competition, your goal is to correctly identify digits from a dataset of tens of thousands of handwritten images. We’ve curated a set of tutorial-style kernels which cover everything from regression to neural networks. We encourage you to experiment with different algorithms to learn first-hand what works well and how techniques compare."
   ]
  },
  {
   "cell_type": "markdown",
   "metadata": {
    "_uuid": "7ed04b1e7a00a7ad31ee98a7d8e55880e6274f29"
   },
   "source": [
    "**Import all Necessary Libraries**"
   ]
  },
  {
   "cell_type": "code",
   "execution_count": 1,
   "metadata": {
    "_uuid": "0f935bddcc5ca02702578e712bf7f396ba7154ef",
    "execution": {
     "iopub.execute_input": "2023-12-12T17:40:27.226253Z",
     "iopub.status.busy": "2023-12-12T17:40:27.225936Z",
     "iopub.status.idle": "2023-12-12T17:40:27.236196Z",
     "shell.execute_reply": "2023-12-12T17:40:27.234982Z",
     "shell.execute_reply.started": "2023-12-12T17:40:27.226209Z"
    }
   },
   "outputs": [
    {
     "name": "stderr",
     "output_type": "stream",
     "text": [
      "Using TensorFlow backend.\n"
     ]
    }
   ],
   "source": [
    "import pandas as pd\n",
    "import numpy as np\n",
    "\n",
    "import matplotlib.pyplot as plt\n",
    "import seaborn as sns\n",
    "\n",
    "from sklearn.model_selection import train_test_split\n",
    "from sklearn.metrics import confusion_matrix\n",
    "\n",
    "import keras\n",
    "from keras.models import Sequential\n",
    "from keras.layers import Conv2D, Lambda, MaxPooling2D # convolution layers\n",
    "from keras.layers import Dense, Dropout, Flatten # core layers\n",
    "from keras.layers.normalization import BatchNormalization\n",
    "\n",
    "from keras.preprocessing.image import ImageDataGenerator\n",
    "\n",
    "from keras.utils.np_utils import to_categorical\n",
    "\n",
    "#from keras.datasets import mnist"
   ]
  },
  {
   "cell_type": "code",
   "execution_count": 2,
   "metadata": {
    "execution": {
     "iopub.execute_input": "2023-12-12T17:40:27.238594Z",
     "iopub.status.busy": "2023-12-12T17:40:27.238277Z",
     "iopub.status.idle": "2023-12-12T17:40:27.258253Z",
     "shell.execute_reply": "2023-12-12T17:40:27.257080Z",
     "shell.execute_reply.started": "2023-12-12T17:40:27.238532Z"
    }
   },
   "outputs": [
    {
     "name": "stdout",
     "output_type": "stream",
     "text": [
      "['sample_submission.csv', 'train.csv', 'test.csv']\n"
     ]
    }
   ],
   "source": [
    "import os\n",
    "print(os.listdir('../input'))"
   ]
  },
  {
   "cell_type": "markdown",
   "metadata": {
    "_uuid": "f94870f1682c45b0e4ea378d287302656af3cf8e"
   },
   "source": [
    "# 2. Data preparation\n",
    "## 2.1 Load data"
   ]
  },
  {
   "cell_type": "code",
   "execution_count": 3,
   "metadata": {
    "execution": {
     "iopub.execute_input": "2023-12-12T17:40:27.259714Z",
     "iopub.status.busy": "2023-12-12T17:40:27.259462Z",
     "iopub.status.idle": "2023-12-12T17:40:32.850156Z",
     "shell.execute_reply": "2023-12-12T17:40:32.849079Z",
     "shell.execute_reply.started": "2023-12-12T17:40:27.259663Z"
    }
   },
   "outputs": [
    {
     "name": "stdout",
     "output_type": "stream",
     "text": [
      "Data are Ready!!\n"
     ]
    }
   ],
   "source": [
    "train = pd.read_csv('../input/train.csv')\n",
    "test = pd.read_csv('../input/test.csv')\n",
    "print(\"Data are Ready!!\")"
   ]
  },
  {
   "cell_type": "code",
   "execution_count": 4,
   "metadata": {
    "execution": {
     "iopub.execute_input": "2023-12-12T17:40:32.853097Z",
     "iopub.status.busy": "2023-12-12T17:40:32.852754Z",
     "iopub.status.idle": "2023-12-12T17:40:32.857426Z",
     "shell.execute_reply": "2023-12-12T17:40:32.856548Z",
     "shell.execute_reply.started": "2023-12-12T17:40:32.853040Z"
    }
   },
   "outputs": [
    {
     "name": "stdout",
     "output_type": "stream",
     "text": [
      "Training data size is (42000, 785)\n",
      "Testing data size is (28000, 784)\n"
     ]
    }
   ],
   "source": [
    "print(f\"Training data size is {train.shape}\\nTesting data size is {test.shape}\")"
   ]
  },
  {
   "cell_type": "markdown",
   "metadata": {},
   "source": [
    "**Set data features and labels**"
   ]
  },
  {
   "cell_type": "code",
   "execution_count": 5,
   "metadata": {
    "execution": {
     "iopub.execute_input": "2023-12-12T17:40:32.860278Z",
     "iopub.status.busy": "2023-12-12T17:40:32.859988Z",
     "iopub.status.idle": "2023-12-12T17:40:33.070358Z",
     "shell.execute_reply": "2023-12-12T17:40:33.069574Z",
     "shell.execute_reply.started": "2023-12-12T17:40:32.860217Z"
    }
   },
   "outputs": [],
   "source": [
    "X = train.drop(['label'], 1).values\n",
    "y = train['label'].values"
   ]
  },
  {
   "cell_type": "markdown",
   "metadata": {},
   "source": [
    "## 2.2 Normalization"
   ]
  },
  {
   "cell_type": "markdown",
   "metadata": {},
   "source": [
    "We perform a grayscale normalization to reduce the effect of illumination's differences. \n",
    "\n",
    "Moreover the CNN converg faster on [0..1] data than on [0..255]."
   ]
  },
  {
   "cell_type": "code",
   "execution_count": 6,
   "metadata": {
    "execution": {
     "iopub.execute_input": "2023-12-12T17:40:33.073060Z",
     "iopub.status.busy": "2023-12-12T17:40:33.072790Z",
     "iopub.status.idle": "2023-12-12T17:40:33.313472Z",
     "shell.execute_reply": "2023-12-12T17:40:33.312538Z",
     "shell.execute_reply.started": "2023-12-12T17:40:33.073018Z"
    }
   },
   "outputs": [],
   "source": [
    "X = X / 255.0"
   ]
  },
  {
   "cell_type": "markdown",
   "metadata": {},
   "source": [
    "## 2.3 Reshape"
   ]
  },
  {
   "cell_type": "code",
   "execution_count": 7,
   "metadata": {
    "execution": {
     "iopub.execute_input": "2023-12-12T17:40:33.315275Z",
     "iopub.status.busy": "2023-12-12T17:40:33.314950Z",
     "iopub.status.idle": "2023-12-12T17:40:33.319185Z",
     "shell.execute_reply": "2023-12-12T17:40:33.318426Z",
     "shell.execute_reply.started": "2023-12-12T17:40:33.315216Z"
    }
   },
   "outputs": [],
   "source": [
    "# Reshape image in 3 dimensions (height = 28px, width = 28px , canal = 1)\n",
    "# canal = 1 => For gray scale\n",
    "X = X.reshape(-1,28,28,1)"
   ]
  },
  {
   "cell_type": "markdown",
   "metadata": {},
   "source": [
    "## 2.4 Label encoding"
   ]
  },
  {
   "cell_type": "markdown",
   "metadata": {},
   "source": [
    "**One-Hot Encoding**"
   ]
  },
  {
   "cell_type": "code",
   "execution_count": 8,
   "metadata": {
    "execution": {
     "iopub.execute_input": "2023-12-12T17:40:33.320746Z",
     "iopub.status.busy": "2023-12-12T17:40:33.320533Z",
     "iopub.status.idle": "2023-12-12T17:40:33.331745Z",
     "shell.execute_reply": "2023-12-12T17:40:33.331076Z",
     "shell.execute_reply.started": "2023-12-12T17:40:33.320709Z"
    }
   },
   "outputs": [
    {
     "name": "stdout",
     "output_type": "stream",
     "text": [
      "Label size (42000, 10)\n"
     ]
    }
   ],
   "source": [
    "# Encode labels to one hot vectors (ex : 2 -> [0,0,1,0,0,0,0,0,0,0])\n",
    "y = to_categorical(y)\n",
    "\n",
    "print(f\"Label size {y.shape}\")"
   ]
  },
  {
   "cell_type": "markdown",
   "metadata": {},
   "source": [
    "Labels are 10 digits numbers from 0 to 9. We need to encode these lables to one hot vectors (ex : 2 -> [0,0,1,0,0,0,0,0,0,0])."
   ]
  },
  {
   "cell_type": "markdown",
   "metadata": {},
   "source": [
    "## 2.5 Split training and valdiation set"
   ]
  },
  {
   "cell_type": "code",
   "execution_count": 9,
   "metadata": {
    "execution": {
     "iopub.execute_input": "2023-12-12T17:40:33.333761Z",
     "iopub.status.busy": "2023-12-12T17:40:33.333319Z",
     "iopub.status.idle": "2023-12-12T17:40:33.995185Z",
     "shell.execute_reply": "2023-12-12T17:40:33.994237Z",
     "shell.execute_reply.started": "2023-12-12T17:40:33.333580Z"
    }
   },
   "outputs": [],
   "source": [
    "# Split the train and the validation set for the fitting\n",
    "X_train, X_test, y_train, y_test = train_test_split(X, y, test_size=0.1, random_state=0)"
   ]
  },
  {
   "cell_type": "code",
   "execution_count": 10,
   "metadata": {
    "execution": {
     "iopub.execute_input": "2023-12-12T17:40:33.996919Z",
     "iopub.status.busy": "2023-12-12T17:40:33.996635Z",
     "iopub.status.idle": "2023-12-12T17:40:34.002216Z",
     "shell.execute_reply": "2023-12-12T17:40:34.001501Z",
     "shell.execute_reply.started": "2023-12-12T17:40:33.996868Z"
    }
   },
   "outputs": [
    {
     "data": {
      "text/plain": [
       "((37800, 28, 28, 1), (4200, 28, 28, 1), (37800, 10), (4200, 10))"
      ]
     },
     "execution_count": 10,
     "metadata": {},
     "output_type": "execute_result"
    }
   ],
   "source": [
    "X_train.shape, X_test.shape, y_train.shape, y_test.shape"
   ]
  },
  {
   "cell_type": "markdown",
   "metadata": {},
   "source": [
    "I choosed to split the train set in two parts : a small fraction (10%) became the validation set which the model is evaluated and the rest (90%) is used to train the model."
   ]
  },
  {
   "cell_type": "markdown",
   "metadata": {
    "_uuid": "d9f73cd8890cc89d03837ef47210b27b94b156dc"
   },
   "source": [
    "**Data Visualization**"
   ]
  },
  {
   "cell_type": "code",
   "execution_count": 11,
   "metadata": {
    "_uuid": "d00d9b96668d11a33c272b2b64cbb4397dcbba89",
    "execution": {
     "iopub.execute_input": "2023-12-12T17:40:34.003683Z",
     "iopub.status.busy": "2023-12-12T17:40:34.003398Z",
     "iopub.status.idle": "2023-12-12T17:40:34.958091Z",
     "shell.execute_reply": "2023-12-12T17:40:34.956992Z",
     "shell.execute_reply.started": "2023-12-12T17:40:34.003633Z"
    },
    "scrolled": true
   },
   "outputs": [
    {
     "data": {
      "image/png": "[encoded data removed]",
      "text/plain": [
       "<Figure size 1440x720 with 4 Axes>"
      ]
     },
     "metadata": {
      "needs_background": "light"
     },
     "output_type": "display_data"
    }
   ],
   "source": [
    "X_train__ = X_train.reshape(X_train.shape[0], 28, 28)\n",
    "\n",
    "fig, axis = plt.subplots(1, 4, figsize=(20, 10))\n",
    "for i, ax in enumerate(axis.flat):\n",
    "    ax.imshow(X_train__[i], cmap='binary')\n",
    "    digit = y_train[i].argmax()\n",
    "    ax.set(title = f\"Real Number is {digit}\");"
   ]
  },
  {
   "cell_type": "markdown",
   "metadata": {
    "_uuid": "a4f73e65842423bae7cfce945cd4dc0e367c180a"
   },
   "source": [
    "**Normalization**"
   ]
  },
  {
   "cell_type": "code",
   "execution_count": 12,
   "metadata": {
    "_uuid": "82bddf135bfad1d3f91b52cd0cadb62e55db964b",
    "execution": {
     "iopub.execute_input": "2023-12-12T17:40:34.960827Z",
     "iopub.status.busy": "2023-12-12T17:40:34.960097Z",
     "iopub.status.idle": "2023-12-12T17:40:35.226948Z",
     "shell.execute_reply": "2023-12-12T17:40:35.226268Z",
     "shell.execute_reply.started": "2023-12-12T17:40:34.960743Z"
    }
   },
   "outputs": [],
   "source": [
    "mean = np.mean(X_train)\n",
    "std = np.std(X_train)\n",
    "\n",
    "def standardize(x):\n",
    "    return (x-mean)/std"
   ]
  },
  {
   "cell_type": "markdown",
   "metadata": {},
   "source": [
    "# 3. CNN\n",
    "## 3.1 Define the model"
   ]
  },
  {
   "cell_type": "markdown",
   "metadata": {},
   "source": [
    "I used the Keras Sequential API, where you have just to add one layer at a time, starting from the input.\n",
    "\n",
    "The first is the convolutional (Conv2D) layer. It is like a set of learnable filters. I choosed to set 32 filters for the two firsts conv2D layers and 64 filters for the two second layers and 128 filters for two third layers and 256 for the last ones. Each filter transforms a part of the image (defined by the kernel size) using the kernel filter. The kernel filter matrix is applied on the whole image. Filters can be seen as a transformation of the image.\n",
    "\n",
    "The CNN can isolate features that are useful everywhere from these transformed images (feature maps).\n",
    "\n",
    "The second important layer in CNN is the pooling (MaxPool2D) layer. This layer simply acts as a downsampling filter. It looks at the 2 neighboring pixels and picks the maximal value. These are used to reduce computational cost, and to some extent also reduce overfitting. We have to choose the pooling size (i.e the area size pooled each time) more the pooling dimension is high, more the downsampling is important. \n",
    "\n",
    "Combining convolutional and pooling layers, CNN are able to combine local features and learn more global features of the image.\n",
    "\n",
    "'relu' is the rectifier (activation function max(0,x). The rectifier activation function is used to add non linearity to the network. \n",
    "\n",
    "The Flatten layer is use to convert the final feature maps into a one single 1D vector. This flattening step is needed so that you can make use of fully connected layers after some convolutional/maxpool layers. It combines all the found local features of the previous convolutional layers.\n",
    "\n",
    "In the end i used the features in two fully-connected (Dense) layers which is just artificial an neural networks (ANN) classifier. In the last layer(Dense(10,activation=\"softmax\")) the net outputs distribution of probability of each class."
   ]
  },
  {
   "cell_type": "markdown",
   "metadata": {
    "_uuid": "57904be2d2935cece025811c128ca6738cf86800"
   },
   "source": [
    "**Model Definition**"
   ]
  },
  {
   "cell_type": "code",
   "execution_count": 13,
   "metadata": {
    "_uuid": "e935c979b0715a68bc8739e6a31f5d9a8189a750",
    "execution": {
     "iopub.execute_input": "2023-12-12T17:40:35.228857Z",
     "iopub.status.busy": "2023-12-12T17:40:35.228512Z",
     "iopub.status.idle": "2023-12-12T17:40:35.748238Z",
     "shell.execute_reply": "2023-12-12T17:40:35.747607Z",
     "shell.execute_reply.started": "2023-12-12T17:40:35.228783Z"
    }
   },
   "outputs": [],
   "source": [
    "model=Sequential()\n",
    "\n",
    "#model.add(Lambda(standardize,input_shape=(28,28,1)))    \n",
    "model.add(Conv2D(filters=64, kernel_size = (3,3), activation=\"relu\", input_shape=(28,28,1)))\n",
    "model.add(Conv2D(filters=64, kernel_size = (3,3), activation=\"relu\"))\n",
    "model.add(MaxPooling2D(pool_size=(2,2)))\n",
    "model.add(BatchNormalization())\n",
    "\n",
    "model.add(Conv2D(filters=128, kernel_size = (3,3), activation=\"relu\"))\n",
    "model.add(Conv2D(filters=128, kernel_size = (3,3), activation=\"relu\"))\n",
    "model.add(MaxPooling2D(pool_size=(2,2)))\n",
    "model.add(BatchNormalization())    \n",
    "\n",
    "model.add(Conv2D(filters=256, kernel_size = (3,3), activation=\"relu\"))\n",
    "model.add(MaxPooling2D(pool_size=(2,2)))\n",
    "model.add(BatchNormalization())\n",
    "    \n",
    "model.add(Flatten())\n",
    "model.add(Dense(512,activation=\"relu\"))\n",
    "    \n",
    "model.add(Dense(10,activation=\"softmax\"))\n",
    "    \n",
    "model.compile(loss=\"categorical_crossentropy\", optimizer=\"adam\", metrics=[\"accuracy\"])"
   ]
  },
  {
   "cell_type": "code",
   "execution_count": 14,
   "metadata": {
    "execution": {
     "iopub.execute_input": "2023-12-12T17:40:35.749739Z",
     "iopub.status.busy": "2023-12-12T17:40:35.749511Z",
     "iopub.status.idle": "2023-12-12T17:40:35.756526Z",
     "shell.execute_reply": "2023-12-12T17:40:35.755838Z",
     "shell.execute_reply.started": "2023-12-12T17:40:35.749701Z"
    }
   },
   "outputs": [
    {
     "name": "stdout",
     "output_type": "stream",
     "text": [
      "_________________________________________________________________\n",
      "Layer (type)                 Output Shape              Param #   \n",
      "=================================================================\n",
      "conv2d_1 (Conv2D)            (None, 26, 26, 64)        640       \n",
      "_________________________________________________________________\n",
      "conv2d_2 (Conv2D)            (None, 24, 24, 64)        36928     \n",
      "_________________________________________________________________\n",
      "max_pooling2d_1 (MaxPooling2 (None, 12, 12, 64)        0         \n",
      "_________________________________________________________________\n",
      "batch_normalization_1 (Batch (None, 12, 12, 64)        256       \n",
      "_________________________________________________________________\n",
      "conv2d_3 (Conv2D)            (None, 10, 10, 128)       73856     \n",
      "_________________________________________________________________\n",
      "conv2d_4 (Conv2D)            (None, 8, 8, 128)         147584    \n",
      "_________________________________________________________________\n",
      "max_pooling2d_2 (MaxPooling2 (None, 4, 4, 128)         0         \n",
      "_________________________________________________________________\n",
      "batch_normalization_2 (Batch (None, 4, 4, 128)         512       \n",
      "_________________________________________________________________\n",
      "conv2d_5 (Conv2D)            (None, 2, 2, 256)         295168    \n",
      "_________________________________________________________________\n",
      "max_pooling2d_3 (MaxPooling2 (None, 1, 1, 256)         0         \n",
      "_________________________________________________________________\n",
      "batch_normalization_3 (Batch (None, 1, 1, 256)         1024      \n",
      "_________________________________________________________________\n",
      "flatten_1 (Flatten)          (None, 256)               0         \n",
      "_________________________________________________________________\n",
      "dense_1 (Dense)              (None, 512)               131584    \n",
      "_________________________________________________________________\n",
      "dense_2 (Dense)              (None, 10)                5130      \n",
      "=================================================================\n",
      "Total params: 692,682\n",
      "Trainable params: 691,786\n",
      "Non-trainable params: 896\n",
      "_________________________________________________________________\n"
     ]
    }
   ],
   "source": [
    "model.summary()"
   ]
  },
  {
   "cell_type": "markdown",
   "metadata": {},
   "source": [
    "## 3.2 Data augmentation"
   ]
  },
  {
   "cell_type": "markdown",
   "metadata": {},
   "source": [
    "In order to avoid overfitting problem, we need to expand artificially our handwritten digit dataset. We can make your existing dataset even larger. The idea is to alter the training data with small transformations to reproduce the variations occuring when someone is writing a digit.\n",
    "\n",
    "For example, the number is not centered \n",
    "The scale is not the same (some who write with big/small numbers)\n",
    "The image is rotated...\n",
    "\n",
    "Approaches that alter the training data in ways that change the array representation while keeping the label the same are known as data augmentation techniques. Some popular augmentations people use are grayscales, horizontal flips, vertical flips, random crops, color jitters, translations, rotations, and much more. \n",
    "\n",
    "By applying just a couple of these transformations to our training data, we can easily double or triple the number of training examples and create a very robust model.\n",
    "\n",
    "The improvement is important : \n",
    "   - Without data augmentation i obtained an accuracy of 98.114%\n",
    "   - With data augmentation i achieved 99.67% of accuracy"
   ]
  },
  {
   "cell_type": "code",
   "execution_count": 15,
   "metadata": {
    "execution": {
     "iopub.execute_input": "2023-12-12T17:40:35.758306Z",
     "iopub.status.busy": "2023-12-12T17:40:35.758056Z",
     "iopub.status.idle": "2023-12-12T17:40:35.803217Z",
     "shell.execute_reply": "2023-12-12T17:40:35.802661Z",
     "shell.execute_reply.started": "2023-12-12T17:40:35.758258Z"
    }
   },
   "outputs": [],
   "source": [
    "# With data augmentation to prevent overfitting\n",
    "\n",
    "datagen = ImageDataGenerator(\n",
    "        featurewise_center=False,  # set input mean to 0 over the dataset\n",
    "        samplewise_center=False,  # set each sample mean to 0\n",
    "        featurewise_std_normalization=False,  # divide inputs by std of the dataset\n",
    "        samplewise_std_normalization=False,  # divide each input by its std\n",
    "        zca_whitening=False,  # apply ZCA whitening\n",
    "        rotation_range=15,  # randomly rotate images in the range (degrees, 0 to 180)\n",
    "        zoom_range = 0.01, # Randomly zoom image \n",
    "        width_shift_range=0.1,  # randomly shift images horizontally (fraction of total width)\n",
    "        height_shift_range=0.1,  # randomly shift images vertically (fraction of total height)\n",
    "        horizontal_flip=False,  # randomly flip images\n",
    "        vertical_flip=False)  # randomly flip images\n",
    "\n",
    "\n",
    "#datagen.fit(X_train)\n",
    "train_gen = datagen.flow(X_train, y_train, batch_size=128)\n",
    "test_gen = datagen.flow(X_test, y_test, batch_size=128)"
   ]
  },
  {
   "cell_type": "markdown",
   "metadata": {},
   "source": [
    "For the data augmentation, i choosed to :\n",
    "   - Randomly rotate some training images by 10 degrees\n",
    "   - Randomly  Zoom by 10% some training images\n",
    "   - Randomly shift images horizontally by 10% of the width\n",
    "   - Randomly shift images vertically by 10% of the height\n",
    "   \n",
    "**I did not apply a vertical_flip nor horizontal_flip since it could have lead to misclassify symetrical numbers such as 6 and 9.**\n",
    "\n",
    "Once our model is ready, we fit the training dataset ."
   ]
  },
  {
   "cell_type": "markdown",
   "metadata": {
    "_uuid": "5a9a1f37ef33b24887f97e7992b7d24567602eb8"
   },
   "source": [
    "## 3.3 Model training"
   ]
  },
  {
   "cell_type": "code",
   "execution_count": 16,
   "metadata": {
    "execution": {
     "iopub.execute_input": "2023-12-12T17:40:35.804889Z",
     "iopub.status.busy": "2023-12-12T17:40:35.804580Z",
     "iopub.status.idle": "2023-12-12T17:40:35.808070Z",
     "shell.execute_reply": "2023-12-12T17:40:35.807293Z",
     "shell.execute_reply.started": "2023-12-12T17:40:35.804834Z"
    }
   },
   "outputs": [],
   "source": [
    "# This make accuarcy 0.998\n",
    "#model.fit(X, y, batch_size=batch_size, validation_split=0.2, epochs=10)"
   ]
  },
  {
   "cell_type": "markdown",
   "metadata": {},
   "source": [
    "### Drive training phase\n",
    "**EarlyStoping**: Stop training when a monitored metric has stopped improving.\n",
    "\n",
    "**ReduceLROnPlateau**: Reduce learning rate when a metric has stopped improving."
   ]
  },
  {
   "cell_type": "code",
   "execution_count": 17,
   "metadata": {
    "execution": {
     "iopub.execute_input": "2023-12-12T17:40:35.809573Z",
     "iopub.status.busy": "2023-12-12T17:40:35.809250Z",
     "iopub.status.idle": "2023-12-12T17:40:35.818473Z",
     "shell.execute_reply": "2023-12-12T17:40:35.817673Z",
     "shell.execute_reply.started": "2023-12-12T17:40:35.809522Z"
    }
   },
   "outputs": [],
   "source": [
    "epochs = 20\n",
    "batch_size = 128\n",
    "train_steps = X_train.shape[0] // batch_size\n",
    "valid_steps = X_test.shape[0] // batch_size\n",
    "\n",
    "es = keras.callbacks.EarlyStopping(\n",
    "        monitor=\"val_acc\", # metrics to monitor\n",
    "        patience=10, # how many epochs before stop\n",
    "        verbose=1,\n",
    "        mode=\"max\", # we need the maximum accuracy.\n",
    "        restore_best_weights=True, # \n",
    "     )\n",
    "\n",
    "rp = keras.callbacks.ReduceLROnPlateau(\n",
    "        monitor=\"val_acc\",\n",
    "        factor=0.2,\n",
    "        patience=3,\n",
    "        verbose=1,\n",
    "        mode=\"max\",\n",
    "        min_lr=0.00001,\n",
    "     )"
   ]
  },
  {
   "cell_type": "code",
   "execution_count": 18,
   "metadata": {
    "execution": {
     "iopub.execute_input": "2023-12-12T17:40:35.819999Z",
     "iopub.status.busy": "2023-12-12T17:40:35.819687Z",
     "iopub.status.idle": "2023-12-12T17:44:00.376734Z",
     "shell.execute_reply": "2023-12-12T17:44:00.374360Z",
     "shell.execute_reply.started": "2023-12-12T17:40:35.819952Z"
    }
   },
   "outputs": [
    {
     "name": "stdout",
     "output_type": "stream",
     "text": [
      "Epoch 1/20\n",
      "295/295 [==============================] - 13s 45ms/step - loss: 0.1604 - acc: 0.9501 - val_loss: 0.0688 - val_acc: 0.9780\n",
      "Epoch 2/20\n",
      "295/295 [==============================] - 11s 36ms/step - loss: 0.0631 - acc: 0.9796 - val_loss: 0.0925 - val_acc: 0.9725\n",
      "Epoch 3/20\n",
      "295/295 [==============================] - 10s 34ms/step - loss: 0.0534 - acc: 0.9841 - val_loss: 0.1305 - val_acc: 0.9619\n",
      "Epoch 4/20\n",
      "295/295 [==============================] - 10s 35ms/step - loss: 0.0398 - acc: 0.9880 - val_loss: 0.0569 - val_acc: 0.9843\n",
      "Epoch 5/20\n",
      "295/295 [==============================] - 10s 35ms/step - loss: 0.0371 - acc: 0.9878 - val_loss: 0.0470 - val_acc: 0.9855\n",
      "Epoch 6/20\n",
      "295/295 [==============================] - 10s 34ms/step - loss: 0.0352 - acc: 0.9896 - val_loss: 0.0657 - val_acc: 0.9789\n",
      "Epoch 7/20\n",
      "295/295 [==============================] - 10s 35ms/step - loss: 0.0327 - acc: 0.9904 - val_loss: 0.0445 - val_acc: 0.9872\n",
      "Epoch 8/20\n",
      "295/295 [==============================] - 10s 35ms/step - loss: 0.0291 - acc: 0.9906 - val_loss: 0.0888 - val_acc: 0.9764\n",
      "Epoch 9/20\n",
      "295/295 [==============================] - 10s 35ms/step - loss: 0.0302 - acc: 0.9911 - val_loss: 0.0300 - val_acc: 0.9914\n",
      "Epoch 10/20\n",
      "295/295 [==============================] - 10s 35ms/step - loss: 0.0275 - acc: 0.9918 - val_loss: 0.0326 - val_acc: 0.9914\n",
      "Epoch 11/20\n",
      "295/295 [==============================] - 10s 35ms/step - loss: 0.0238 - acc: 0.9923 - val_loss: 0.0480 - val_acc: 0.9885\n",
      "Epoch 12/20\n",
      "295/295 [==============================] - 10s 35ms/step - loss: 0.0267 - acc: 0.9920 - val_loss: 0.0476 - val_acc: 0.9872\n",
      "\n",
      "Epoch 00012: ReduceLROnPlateau reducing learning rate to 0.00020000000949949026.\n",
      "Epoch 13/20\n",
      "295/295 [==============================] - 10s 34ms/step - loss: 0.0146 - acc: 0.9953 - val_loss: 0.0253 - val_acc: 0.9924\n",
      "Epoch 14/20\n",
      "295/295 [==============================] - 10s 36ms/step - loss: 0.0094 - acc: 0.9970 - val_loss: 0.0239 - val_acc: 0.9934\n",
      "Epoch 15/20\n",
      "295/295 [==============================] - 10s 35ms/step - loss: 0.0095 - acc: 0.9972 - val_loss: 0.0191 - val_acc: 0.9946\n",
      "Epoch 16/20\n",
      "295/295 [==============================] - 10s 35ms/step - loss: 0.0080 - acc: 0.9977 - val_loss: 0.0234 - val_acc: 0.9946\n",
      "Epoch 17/20\n",
      "295/295 [==============================] - 10s 35ms/step - loss: 0.0071 - acc: 0.9979 - val_loss: 0.0186 - val_acc: 0.9958\n",
      "Epoch 18/20\n",
      "295/295 [==============================] - 10s 35ms/step - loss: 0.0077 - acc: 0.9977 - val_loss: 0.0300 - val_acc: 0.9912\n",
      "Epoch 19/20\n",
      "295/295 [==============================] - 10s 35ms/step - loss: 0.0083 - acc: 0.9975 - val_loss: 0.0186 - val_acc: 0.9941\n",
      "Epoch 20/20\n",
      "295/295 [==============================] - 10s 35ms/step - loss: 0.0071 - acc: 0.9977 - val_loss: 0.0259 - val_acc: 0.9946\n",
      "\n",
      "Epoch 00020: ReduceLROnPlateau reducing learning rate to 4.0000001899898055e-05.\n"
     ]
    }
   ],
   "source": [
    "# Fit the model\n",
    "history = model.fit_generator(train_gen, \n",
    "                              epochs = epochs, \n",
    "                              steps_per_epoch = train_steps,\n",
    "                              validation_data = test_gen,\n",
    "                              validation_steps = valid_steps, \n",
    "                              callbacks=[es, rp])"
   ]
  },
  {
   "cell_type": "markdown",
   "metadata": {},
   "source": [
    "**Plot CNN model**"
   ]
  },
  {
   "cell_type": "code",
   "execution_count": 19,
   "metadata": {
    "execution": {
     "iopub.execute_input": "2023-12-12T17:44:00.380407Z",
     "iopub.status.busy": "2023-12-12T17:44:00.380135Z",
     "iopub.status.idle": "2023-12-12T17:44:01.787309Z",
     "shell.execute_reply": "2023-12-12T17:44:01.786268Z",
     "shell.execute_reply.started": "2023-12-12T17:44:00.380353Z"
    }
   },
   "outputs": [],
   "source": [
    "from keras.utils.vis_utils import plot_model\n",
    "plot_model(model, to_file='CNN_model_arch.png', show_shapes=True, show_layer_names=True)"
   ]
  },
  {
   "cell_type": "markdown",
   "metadata": {},
   "source": [
    "# 4. Evaluate the model\n",
    "## 4.1 Training and validation curves"
   ]
  },
  {
   "cell_type": "code",
   "execution_count": 20,
   "metadata": {
    "execution": {
     "iopub.execute_input": "2023-12-12T17:44:01.789487Z",
     "iopub.status.busy": "2023-12-12T17:44:01.789246Z",
     "iopub.status.idle": "2023-12-12T17:44:02.526201Z",
     "shell.execute_reply": "2023-12-12T17:44:02.525002Z",
     "shell.execute_reply.started": "2023-12-12T17:44:01.789445Z"
    }
   },
   "outputs": [
    {
     "data": {
      "image/png": "[encoded data removed]",
      "text/plain": [
       "<Figure size 1296x720 with 2 Axes>"
      ]
     },
     "metadata": {
      "needs_background": "light"
     },
     "output_type": "display_data"
    }
   ],
   "source": [
    "# Plot the loss and accuracy curves for training and validation \n",
    "fig, ax = plt.subplots(2,1, figsize=(18, 10))\n",
    "ax[0].plot(history.history['loss'], color='b', label=\"Training loss\")\n",
    "ax[0].plot(history.history['val_loss'], color='r', label=\"validation loss\",axes =ax[0])\n",
    "legend = ax[0].legend(loc='best', shadow=True)\n",
    "\n",
    "ax[1].plot(history.history['acc'], color='b', label=\"Training accuracy\")\n",
    "ax[1].plot(history.history['val_acc'], color='r',label=\"Validation accuracy\")\n",
    "legend = ax[1].legend(loc='best', shadow=True)"
   ]
  },
  {
   "cell_type": "markdown",
   "metadata": {},
   "source": [
    "## 4.2 Confusion matrix"
   ]
  },
  {
   "cell_type": "markdown",
   "metadata": {},
   "source": [
    "Confusion matrix can be very helpfull to see your model drawbacks.\n",
    "\n",
    "I plot the confusion matrix of the validation results."
   ]
  },
  {
   "cell_type": "code",
   "execution_count": 21,
   "metadata": {
    "execution": {
     "iopub.execute_input": "2023-12-12T17:44:02.528243Z",
     "iopub.status.busy": "2023-12-12T17:44:02.527883Z",
     "iopub.status.idle": "2023-12-12T17:44:03.637029Z",
     "shell.execute_reply": "2023-12-12T17:44:03.636029Z",
     "shell.execute_reply.started": "2023-12-12T17:44:02.528200Z"
    }
   },
   "outputs": [
    {
     "data": {
      "image/png": "[encoded data removed]",
      "text/plain": [
       "<Figure size 720x720 with 1 Axes>"
      ]
     },
     "metadata": {
      "needs_background": "light"
     },
     "output_type": "display_data"
    }
   ],
   "source": [
    "fig = plt.figure(figsize=(10, 10)) # Set Figure\n",
    "\n",
    "y_pred = model.predict(X_test) # Predict class probabilities as 2 => [0.1, 0, 0.9, 0, 0, 0, 0, 0, 0, 0]\n",
    "\n",
    "Y_pred = np.argmax(y_pred, 1) # Decode Predicted labels\n",
    "Y_test = np.argmax(y_test, 1) # Decode labels\n",
    "\n",
    "mat = confusion_matrix(Y_test, Y_pred) # Confusion matrix\n",
    "\n",
    "# Plot Confusion matrix\n",
    "sns.heatmap(mat.T, square=True, annot=True, cbar=False, cmap=plt.cm.Blues, fmt='.0f')\n",
    "plt.xlabel('Predicted Values')\n",
    "plt.ylabel('True Values');\n",
    "plt.show();"
   ]
  },
  {
   "cell_type": "markdown",
   "metadata": {},
   "source": [
    "# 5. Prediction and submition"
   ]
  },
  {
   "cell_type": "markdown",
   "metadata": {},
   "source": [
    "## 5.1 Prediction validation results"
   ]
  },
  {
   "cell_type": "code",
   "execution_count": 22,
   "metadata": {
    "execution": {
     "iopub.execute_input": "2023-12-12T17:44:03.638984Z",
     "iopub.status.busy": "2023-12-12T17:44:03.638646Z",
     "iopub.status.idle": "2023-12-12T17:44:06.656770Z",
     "shell.execute_reply": "2023-12-12T17:44:06.655931Z",
     "shell.execute_reply.started": "2023-12-12T17:44:03.638925Z"
    }
   },
   "outputs": [
    {
     "data": {
      "image/png": "[encoded data removed]",
      "text/plain": [
       "<Figure size 864x1008 with 16 Axes>"
      ]
     },
     "metadata": {
      "needs_background": "light"
     },
     "output_type": "display_data"
    }
   ],
   "source": [
    "y_pred = model.predict(X_test)\n",
    "X_test__ = X_test.reshape(X_test.shape[0], 28, 28)\n",
    "\n",
    "fig, axis = plt.subplots(4, 4, figsize=(12, 14))\n",
    "for i, ax in enumerate(axis.flat):\n",
    "    ax.imshow(X_test__[i], cmap='binary')\n",
    "    ax.set(title = f\"Real Number is {y_test[i].argmax()}\\nPredict Number is {y_pred[i].argmax()}\");"
   ]
  },
  {
   "cell_type": "markdown",
   "metadata": {
    "_uuid": "9949d758f73153835902ba3c87907fee7cfedaa1"
   },
   "source": [
    "**Prediciting test classes**"
   ]
  },
  {
   "cell_type": "code",
   "execution_count": 23,
   "metadata": {
    "_uuid": "afcacfa4a023a9e01a61b5d7dcd051f0a439fa38",
    "execution": {
     "iopub.execute_input": "2023-12-12T17:44:06.658738Z",
     "iopub.status.busy": "2023-12-12T17:44:06.658211Z",
     "iopub.status.idle": "2023-12-12T17:44:08.444273Z",
     "shell.execute_reply": "2023-12-12T17:44:08.443444Z",
     "shell.execute_reply.started": "2023-12-12T17:44:06.658682Z"
    }
   },
   "outputs": [
    {
     "name": "stdout",
     "output_type": "stream",
     "text": [
      "28000/28000 [==============================] - 2s 55us/step\n"
     ]
    }
   ],
   "source": [
    "# preprocess test data\n",
    "test_x = test.values\n",
    "test_x = test_x / 255.0\n",
    "test_x = test_x.reshape(-1,28,28,1)\n",
    "\n",
    "# predict test data\n",
    "pred = model.predict_classes(test_x, verbose=1)"
   ]
  },
  {
   "cell_type": "code",
   "execution_count": 24,
   "metadata": {
    "execution": {
     "iopub.execute_input": "2023-12-12T17:44:39.040998Z",
     "iopub.status.busy": "2023-12-12T17:44:39.040645Z",
     "iopub.status.idle": "2023-12-12T17:44:39.309636Z",
     "shell.execute_reply": "2023-12-12T17:44:39.308930Z",
     "shell.execute_reply.started": "2023-12-12T17:44:39.040938Z"
    }
   },
   "outputs": [],
   "source": [
    "# submissions\n",
    "prediction= pd.DataFrame()\n",
    "prediction['Label'] = pred\n",
    "prediction.to_csv(\"CNN_keras_MNIST.csv\", index=False)\n"
   ]
  },
  {
   "cell_type": "code",
   "execution_count": null,
   "metadata": {},
   "outputs": [],
   "source": []
  }
 ],
 "metadata": {
  "kaggle": {
   "accelerator": "gpu",
   "dataSources": [
    {
     "databundleVersionId": 861823,
     "sourceId": 3004,
     "sourceType": "competition"
    }
   ],
   "dockerImageVersionId": 27938,
   "isGpuEnabled": true,
   "isInternetEnabled": false,
   "language": "python",
   "sourceType": "notebook"
  },
  "kernelspec": {
   "display_name": "Python 3",
   "language": "python",
   "name": "python3"
  },
  "language_info": {
   "codemirror_mode": {
    "name": "ipython",
    "version": 3
   },
   "file_extension": ".py",
   "mimetype": "text/x-python",
   "name": "python",
   "nbconvert_exporter": "python",
   "pygments_lexer": "ipython3",
   "version": "3.6.6"
  }
 },
 "nbformat": 4,
 "nbformat_minor": 4
}
